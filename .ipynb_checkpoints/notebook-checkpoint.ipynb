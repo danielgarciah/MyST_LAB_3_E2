{
 "cells": [
  {
   "cell_type": "markdown",
   "metadata": {},
   "source": [
    "<center> <img src=\"http://oci02.img.iteso.mx/identidad_de_instancia_2018/ITESO/Logos%20ITESO/Logo-ITESO-Principal.jpg\" align=\"center\" width=\"960\" height=\"480\"/> </center>"
   ]
  },
  {
   "cell_type": "markdown",
   "metadata": {},
   "source": [
    "<center><font color=#555555><font size=6> MAF1731 - Microstructure and Trading Systems </font> <br> <br>\n",
    "    \n",
    "<center><font color=#555555><font size=5> B.Eng Financial Engineering </font> <br> <br> <br> <br>\n",
    "\n",
    "<center><font color=#555555><font size=3> Daniel García Hernández </font> <br> <br>\n",
    "<center><font color=#555555><font size=3> Bruno Isaac Pimentel Vargas </font> <br> <br>\n",
    "<center><font color=#555555><font size=3> Chelsi Areli Sedano Gómez </font> <br> <br>\n",
    "   \n",
    "<center> <font color= #555555> <font size = 4> Oct 2021 </a> | <font color= #555555> <font size = 4> Repository: <a href='https://github.com/OmarVillalobos/python-project'>Link</a></font>"
   ]
  },
  {
   "cell_type": "markdown",
   "metadata": {},
   "source": [
    "<hr style=\"border:0.02in solid gray\"> </hr>"
   ]
  },
  {
   "cell_type": "markdown",
   "metadata": {},
   "source": [
    "<center> <font color= #555555> <font size = 6> Lab 1 </font> <br> <br> <font color= #555555> <font size = 5> Finanzas Conductuales  </font>"
   ]
  },
  {
   "cell_type": "markdown",
   "metadata": {},
   "source": [
    "<hr style=\"border:0.02in solid gray\"> </hr>"
   ]
  },
  {
   "cell_type": "markdown",
   "metadata": {},
   "source": [
    "<br>"
   ]
  },
  {
   "cell_type": "markdown",
   "metadata": {},
   "source": [
    "<font color= #555555> <font size = 4> Abstract </font>"
   ]
  },
  {
   "cell_type": "markdown",
   "metadata": {},
   "source": [
    "<font color= #6B6B6B> <font size = 3>  Laboratorio elaborado por los siguientes estudiantes de Ingeniería Financiera en el Iteso: Daniel García Hernández, Bruno Isaac Pimentel Vargas y Chelsi Areli Sedano Gómez para la materia de Microestructuras y Sistemas de Trading impartida por el profesor Omar Antonio Villalobos Ramos. Esté laboratorio tiene como propósito desarrollar diversas herramientas que permitan realizar un análisis profundo al desempeño de actividades de trading, buscando realizar análisis en dos grandes áreas, la primera desde el desempeño de la cuenta y la segunda desde el punto de vista de la persona que maneja la cuenta. </font>"
   ]
  },
  {
   "cell_type": "markdown",
   "metadata": {},
   "source": [
    "<br>"
   ]
  },
  {
   "cell_type": "markdown",
   "metadata": {},
   "source": [
    "# <font color= #6B6B6B> <font size = 6> 1. Introduction </font>"
   ]
  },
  {
   "cell_type": "markdown",
   "metadata": {},
   "source": [
    "<hr style=\"border:0.02in solid gray\"> </hr>"
   ]
  },
  {
   "cell_type": "markdown",
   "metadata": {},
   "source": [
    "Todas las decisiones que tomamos en nuestra vida diaria se basan en nuestras experiencias, sentimientos, y aprendizajes, después de tomar una decisión agregamos a nuestro conocimiento los resultados de dicha acción y vamos formando un diccionario de información que nos permite reaccionar. Sin embargo muchas veces nuestros sentimientos o nuestro ambiente nos lleva a sesgos psicológicos que alteran nuestra toma de decisiones y con ello sus resultados. \n",
    "\n",
    "En las finanzas encontramos que sucede lo mismo, un individuo que realiza trading toma sus decisiones de transacciones de la misma forma. \n",
    "\n",
    "Las finanzas conductuales estudian la influencia de la psicología en el comportamiento de inversores y analistas financieros, así como su impacto en los resultados. Los individuos al momento de realizar una decisión bajo riesgo e incertidumbre admiten sesgos emocionales o cognitivos en sus decisiones los cuales alteran los precios de los activos, por lo tanto podríamos pensar que la teoría clásica sobre la eficiencia de los mercados y sobre la racionalidad de los inversores presenta notables limitaciones a la hora de entender el comportamiento observado del precio de los activos y de explicar cómo se comportan en realidad los individuos a la hora de invertir.\n",
    "\n",
    "En el siguiente laboratorio vamos a desarrollar un análisis profundo de todas las operaciones realizadas en el laboratorio 2 las cuales se llevaron a cabo en la plataforma MetaTrader 5, se utilizó un capital de $100,000.00 USD y todas las transacciones registradas fueron realizadas utilizando análisis técnico, análisis fundamental e históricos. Analizaremos la información de tal forma que  podamos encontrar los sesgos en nuestras operaciones y lograr saber las afectaciones o beneficios que se obtuvieron. "
   ]
  },
  {
   "cell_type": "markdown",
   "metadata": {},
   "source": [
    "# <font color= #6B6B6B> <font size = 4> Objetivos </font>"
   ]
  },
  {
   "cell_type": "markdown",
   "metadata": {},
   "source": [
    "Objetivo general:\n",
    "\n",
    "Este laboratorio tiene como propósito particular el elaborar herramientas para el análisis del desempeño de la actividad de trading, desde el punto de vista de la cuenta y desde el punto de vista de la persona que opera la cuenta (trader)."
   ]
  },
  {
   "cell_type": "markdown",
   "metadata": {},
   "source": [
    "Objetivos por sección:\n",
    "\n",
    "* Generar tablas con estadística descriptiva, que nos permitan observar el comportamiento de nuestras inversiones realizadas en el laboratorio 2 y su composición. \n",
    "\n",
    "* Generar tablas con métricas de atribución al desempeño, que nos permitan saber su evolución y sus resultados.\n",
    "\n",
    "* Analizar como afecta el comportamiento humano en nuestras operaciones y cuál es el resultado de ello en nuestro capital. \n",
    "\n",
    "* Realizar visualizaciones de Ranking,  DrawDown y DrawUp y Disposition Effect."
   ]
  },
  {
   "cell_type": "markdown",
   "metadata": {},
   "source": [
    "# <font color= #6B6B6B> 2. Install/Load Packages and Depedencies </font>"
   ]
  },
  {
   "cell_type": "markdown",
   "metadata": {},
   "source": [
    "<hr style=\"border:0.02in solid gray\"> </hr>"
   ]
  },
  {
   "cell_type": "markdown",
   "metadata": {},
   "source": [
    "## <font color= #6B6B6B> 2.2 Python Packages </font> <font color= #555555>"
   ]
  },
  {
   "cell_type": "markdown",
   "metadata": {},
   "source": [
    "In order to run this notebook, it is necessary to have installed and/or have the _requirements.txt_ file with the following: "
   ]
  },
  {
   "cell_type": "markdown",
   "metadata": {},
   "source": [
    "- fire==0.4.0 \n",
    "- ipython\n",
    "- jupyter\n",
    "- matplotlib\n",
    "- numpy\n",
    "- requests==2.25.1\n",
    "- pandas\n",
    "- pycodestyle==2.5.0\n",
    "- Metatrader5\n",
    "- openpyxl\n",
    "- statistics\n",
    "- yfinance"
   ]
  },
  {
   "cell_type": "markdown",
   "metadata": {},
   "source": [
    "## <font color= #6B6B6B> 2.3 Files Dependencies </font> <font color= #555555>"
   ]
  },
  {
   "cell_type": "markdown",
   "metadata": {},
   "source": [
    "The following are the file dependencies that are needed to run this notebook:"
   ]
  },
  {
   "cell_type": "markdown",
   "metadata": {},
   "source": [
    "- files/instruments_pips.csv : Pips utilizados para cada instrumento.\n",
    "- files/datos.txt : Otros datos históricos"
   ]
  },
  {
   "cell_type": "markdown",
   "metadata": {},
   "source": [
    "<br>"
   ]
  },
  {
   "cell_type": "markdown",
   "metadata": {},
   "source": [
    "# <font color= #6B6B6B> 3. Data Description </font>"
   ]
  },
  {
   "cell_type": "markdown",
   "metadata": {},
   "source": [
    "<hr style=\"border:0.02in solid gray\"> </hr>"
   ]
  },
  {
   "cell_type": "markdown",
   "metadata": {},
   "source": [
    "Importamos todos los archivos y librerías de nuestro laboratorio y consideramos que se utilizó un capital de $100,000 dólares para fondear nuestra cuenta y realizar nuestras operaciones, además de cargar el archivo instruments_pips.csv el cual nos servira más adelante. "
   ]
  },
  {
   "cell_type": "code",
   "execution_count": 5,
   "metadata": {},
   "outputs": [],
   "source": [
    "# Importamos librerias \n",
    "import data as dt\n",
    "import functions as fn\n",
    "import visualizations as vs\n",
    "import numpy as np"
   ]
  },
  {
   "cell_type": "code",
   "execution_count": null,
   "metadata": {},
   "outputs": [],
   "source": [
    "# Importamos datos "
   ]
  },
  {
   "cell_type": "markdown",
   "metadata": {},
   "source": [
    "# <font color= #6B6B6B> 4. Estadística Descriptiva  </font>"
   ]
  },
  {
   "cell_type": "markdown",
   "metadata": {},
   "source": [
    "<hr style=\"border:0.02in solid gray\"> </hr>"
   ]
  },
  {
   "cell_type": "markdown",
   "metadata": {},
   "source": [
    "Utiliåndo la base de datos anterior y el archivo instruments_pips.csv se crearón más columnas en nuestro historico, como es pip_size."
   ]
  },
  {
   "cell_type": "code",
   "execution_count": 6,
   "metadata": {},
   "outputs": [],
   "source": [
    "#Importar datos "
   ]
  },
  {
   "cell_type": "markdown",
   "metadata": {},
   "source": [
    "En la siguiente tabla podemos observar las medidas para todo nuestro histórico de operaciones, en las cuales se pueden observar el número total de operaciones, las ganadoras, las perdedoras, las medianas y la efectividad esto con el fin de poder visualizar de manera más sencilla el desarrollo en el tiempo de nuestras operaciones y si fue bueno o malo su desempeño. "
   ]
  },
  {
   "cell_type": "code",
   "execution_count": null,
   "metadata": {},
   "outputs": [],
   "source": [
    "# Importar tabla de medidas (tabla 1)"
   ]
  },
  {
   "cell_type": "markdown",
   "metadata": {},
   "source": [
    "Ahora en nuestra siguiente tabla podemos observar el ranking de cual de todos los activos tuvo una mayor efectividad en todas las operaciones."
   ]
  },
  {
   "cell_type": "code",
   "execution_count": null,
   "metadata": {},
   "outputs": [],
   "source": [
    "# Importar tabla de ranking (tabla 2)"
   ]
  },
  {
   "cell_type": "markdown",
   "metadata": {},
   "source": [
    "# <font color= #6B6B6B> 5. Métricas de Atribución al Desempeño.  </font>"
   ]
  },
  {
   "cell_type": "markdown",
   "metadata": {},
   "source": [
    "<hr style=\"border:0.02in solid gray\"> </hr>"
   ]
  },
  {
   "cell_type": "markdown",
   "metadata": {},
   "source": [
    "En la tabla siguiente podemos observar que realizo una discriminación de datos de nuestra base principal, se agruparon las transacciones por día y se creo la columna de 'profit_d' (profit diario) y la columna de 'profit_acm_d' (profit acumulado diario) con el fin de poder tener una visualización sencilla que nos permita saber el desempeño de nuestros datos en el tiempo y como fueron variando nuestros resultados."
   ]
  },
  {
   "cell_type": "code",
   "execution_count": null,
   "metadata": {},
   "outputs": [],
   "source": [
    "# Importar tabla de f_evolucion_capital: \n"
   ]
  },
  {
   "cell_type": "markdown",
   "metadata": {},
   "source": [
    "Nuestra siguiente tabla muestra diferentes medidas utilizadas para el análisis de nuestros datos, podemos encontrar el sharpe ratio  el cual es una medida que nos permite saber  el rendimiento promedio excedente sobre la tasa libre de riesgo por unidad de riesgo incurrido, es decir nos permite saber cuanto más esperamos ganar por cada unidad de riesgo que tomamos por arriba de la tasa libre de riesgo en términos sencillos es que un sharpe ratio alto ocurre cuando se logró obtener un rendimiento mayor del riesgo al que se expuso.\n",
    "\n",
    "Otra medida que podemos observar es Drawdown / Drawup que es la minusvalía/plusvalía máxima que se presentó en la evolución del capital y la fecha en que ocurrió."
   ]
  },
  {
   "cell_type": "code",
   "execution_count": null,
   "metadata": {},
   "outputs": [],
   "source": [
    "# importar la tabla estadísticas "
   ]
  },
  {
   "cell_type": "markdown",
   "metadata": {},
   "source": [
    "<br>"
   ]
  },
  {
   "cell_type": "markdown",
   "metadata": {},
   "source": [
    "# <font color= #6B6B6B> <font size = 6> 6. Behavioral Finance </font>"
   ]
  },
  {
   "cell_type": "markdown",
   "metadata": {},
   "source": [
    "<hr style=\"border:0.02in solid gray\"> </hr>"
   ]
  },
  {
   "cell_type": "markdown",
   "metadata": {},
   "source": [
    "A continuación se muestra un desglose que contiene todas las ocurrencias observadas en el ejercicio es decir, si alguna otra operación estuvo abierta dentro del intervalo de duración de cada operación ganadora “Ancla” que fue cerrada."
   ]
  },
  {
   "cell_type": "code",
   "execution_count": 5,
   "metadata": {},
   "outputs": [],
   "source": [
    "# Importar diccionario"
   ]
  },
  {
   "cell_type": "markdown",
   "metadata": {},
   "source": [
    "La tabla siguiente muestra un acumulado del numero de ocurrencias en todo el tiempo, el porcentaje de veces que influyó el Status-quo, el porcentaje de veces que hubo aversión a la pérdida y si hubo sensibilidad decreciente"
   ]
  },
  {
   "cell_type": "code",
   "execution_count": null,
   "metadata": {},
   "outputs": [],
   "source": [
    "# importar tabla con acumulado "
   ]
  },
  {
   "cell_type": "markdown",
   "metadata": {},
   "source": [
    "<br>"
   ]
  },
  {
   "cell_type": "markdown",
   "metadata": {},
   "source": [
    "# <font color= #6B6B6B> <font size = 6> 7.  Visualizaciones </font>"
   ]
  },
  {
   "cell_type": "markdown",
   "metadata": {},
   "source": [
    "<hr style=\"border:0.02in solid gray\"> </hr>"
   ]
  },
  {
   "cell_type": "markdown",
   "metadata": {},
   "source": [
    "En la siguiente gráfica de pastel podemos observar de manera más sencilla el ranking, es decir cual de todos nuestros activo tuvo una mayor efectividad."
   ]
  },
  {
   "cell_type": "code",
   "execution_count": null,
   "metadata": {},
   "outputs": [],
   "source": [
    "# Gráfica Ranking"
   ]
  },
  {
   "cell_type": "markdown",
   "metadata": {},
   "source": [
    "En la gráfica  DrawDown y DrawUp podemos observar  una línea de color negro que represente la evolución del capital acumulado diario,  una línea recta punteada de color verde que represente el DrawUp, que va desde la fecha inicial hasta la fecha final de ocurrencia del máximo DrawUp y una línea recta punteada de color rojo que represente el DrawDown, que va desde la fecha inicial hasta la fecha final de ocurrencia del máximo DrawDown."
   ]
  },
  {
   "cell_type": "code",
   "execution_count": null,
   "metadata": {},
   "outputs": [],
   "source": [
    "# Gráfica  DrawDown y DrawUp"
   ]
  },
  {
   "cell_type": "markdown",
   "metadata": {},
   "source": [
    "En la siguiente gráfica se puede observar en el eje de las X a las variables 'Status Quo', 'Aversión Perdida' y 'Sensibilidad Decreciente', canda uno contiene la cantidad de veces que se observó en el Disposition Effect."
   ]
  },
  {
   "cell_type": "code",
   "execution_count": null,
   "metadata": {},
   "outputs": [],
   "source": [
    "# Gráfica Disposition Effect"
   ]
  },
  {
   "cell_type": "markdown",
   "metadata": {},
   "source": [
    "# <font color= #6B6B6B> <font size = 6> 9. Resultados </font>"
   ]
  },
  {
   "cell_type": "markdown",
   "metadata": {},
   "source": [
    "<hr style=\"border:0.02in solid gray\"> </hr>"
   ]
  },
  {
   "cell_type": "markdown",
   "metadata": {},
   "source": [
    "Colocar conclusión"
   ]
  },
  {
   "cell_type": "markdown",
   "metadata": {},
   "source": [
    "<br>"
   ]
  },
  {
   "cell_type": "markdown",
   "metadata": {},
   "source": [
    "# <font color= #6B6B6B> <font size = 6> 8. References </font>"
   ]
  },
  {
   "cell_type": "markdown",
   "metadata": {},
   "source": [
    "<hr style=\"border:0.02in solid gray\"> </hr>"
   ]
  },
  {
   "cell_type": "code",
   "execution_count": null,
   "metadata": {},
   "outputs": [],
   "source": []
  },
  {
   "cell_type": "markdown",
   "metadata": {},
   "source": [
    "[1] Munnoz, 2020. Python project template. https://github.com/iffranciscome/python-project. (2021)."
   ]
  },
  {
   "cell_type": "markdown",
   "metadata": {},
   "source": [
    "<br>"
   ]
  }
 ],
 "metadata": {
  "kernelspec": {
   "display_name": "Python 3",
   "language": "python",
   "name": "python3"
  },
  "language_info": {
   "codemirror_mode": {
    "name": "ipython",
    "version": 3
   },
   "file_extension": ".py",
   "mimetype": "text/x-python",
   "name": "python",
   "nbconvert_exporter": "python",
   "pygments_lexer": "ipython3",
   "version": "3.8.8"
  }
 },
 "nbformat": 4,
 "nbformat_minor": 4
}
